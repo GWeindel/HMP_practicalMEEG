{
 "cells": [
  {
   "cell_type": "code",
   "execution_count": null,
   "id": "e8bdf7eb-188b-4a2f-9c63-1a6b62fd8f58",
   "metadata": {},
   "outputs": [],
   "source": [
    "import os\n",
    "import requests\n",
    "import numpy as np\n",
    "import xarray as xr\n",
    "import hmp\n",
    "from mne.io import read_info\n",
    "import matplotlib.pyplot as plt\n",
    "\n",
    "# Declaring path where the EEG data will be stored\n",
    "epoch_data_path = os.path.join('sample_data', 'eeg')\n",
    "os.makedirs(epoch_data_path, exist_ok=True)\n",
    "\n",
    "# URLs of the first 5 participants in the SAT experiment, navigate the osf folder and adapt those if you want to do this tutorial on other data (e.g. P3, N2pc)\n",
    "file_urls = [\n",
    "    \"https://osf.io/download/92n3g/\",\n",
    "    \"https://osf.io/download/fdqc7/\",\n",
    "    \"https://osf.io/download/ezfdq/\",\n",
    "    \"https://osf.io/download/4zu35/\",\n",
    "    \"https://osf.io/download/d8432/\",\n",
    "    \"https://osf.io/download/p2c4k/\",\n",
    "]\n",
    "\n",
    "# Download and save each file if not already in folder\n",
    "for i, url in enumerate(file_urls, start=1):\n",
    "    file_path = os.path.join(epoch_data_path, f'participant{i}_epo.fif')\n",
    "    if not os.path.exists(file_path):\n",
    "        response = requests.get(url)\n",
    "        with open(file_path, 'wb') as f:\n",
    "            f.write(response.content)\n",
    "\n",
    "# Recovering individual files and participant names\n",
    "subj_files = [os.path.join(epoch_data_path, f) for f in os.listdir(epoch_data_path) if f.endswith('.fif')]  # Create a list of files with full paths\n",
    "subj_names = [os.path.splitext(f)[0] for f in os.listdir(epoch_data_path) if f.endswith('.fif')]  # Extract subject names based on file names\n",
    "\n",
    "# Recovering channel information (assuming the same for all participant)\n",
    "info = read_info(subj_files[0], verbose=False)\n",
    "\n",
    "# Importing an example epoch file just to show the format, of the metadata\n",
    "import mne\n",
    "epochs = mne.read_epochs(os.path.join(epoch_data_path,os.listdir(epoch_data_path)[0]))\n",
    "epochs.metadata"
   ]
  },
  {
   "cell_type": "code",
   "execution_count": null,
   "id": "645c3683-4ea6-410e-90cb-372df69a1b36",
   "metadata": {},
   "outputs": [],
   "source": [
    "# At what frequency we want the data, upsample only if you have a large amount of RAM (and time)\n",
    "# Note that upsampling usually doesn't improve the results, it is however useful if you want to use patterns that are shorter than the standard 50ms Halfsines\n",
    "sfreq = 250\n",
    "\n",
    "# Then we read the data as shown in Tutorial 1\n",
    "epoch_data = hmp.io.read_mne_data(subj_files, data_format='epochs', sfreq=sfreq,\n",
    "                            lower_limit_rt=0.2, upper_limit_rt=2,\n",
    "                            reject_threshold=1e-4,\n",
    "                            rt_col = 'rt', scale = 1, #In this case the rts are contained in the dataframe column \"RT\" and is in milliseconds, thus we adapt\n",
    "                            verbose=False, subj_name=subj_names)#Turning verbose off for the documentation but it is recommended to leave it on as some output from MNE might be useful\n",
    "\n",
    "print(epoch_data)"
   ]
  },
  {
   "cell_type": "code",
   "execution_count": null,
   "id": "ea500060-d7cd-4456-a851-d4fa28beea9c",
   "metadata": {},
   "outputs": [],
   "source": [
    "preprocessed = hmp.preprocessing.Standard(epoch_data, n_comp=10)\n",
    "# Defining the expected HMP pattern\n",
    "event_properties = hmp.patterns.HalfSine.create_expected(sfreq=epoch_data.sfreq)\n",
    "# Performing the crosscorrelation between the preprocessed data and the expected pattern\n",
    "trial_data = hmp.trialdata.TrialData.from_preprocessed(preprocessed=preprocessed, pattern=event_properties.template)"
   ]
  },
  {
   "cell_type": "code",
   "execution_count": null,
   "id": "a32e2d14-cc33-4b21-b30a-b02eb67adc97",
   "metadata": {},
   "outputs": [],
   "source": [
    "model = hmp.models.CumulativeMethod(event_properties)\n",
    "_, estimates_cumulative = model.fit_transform(trial_data)"
   ]
  },
  {
   "cell_type": "code",
   "execution_count": null,
   "id": "564d495b-3add-4d41-8be9-28d225456a5c",
   "metadata": {},
   "outputs": [],
   "source": [
    "hmp.visu.plot_topo_timecourse(epoch_data, estimates_cumulative, info, as_time=True)"
   ]
  },
  {
   "cell_type": "code",
   "execution_count": null,
   "id": "b5208d1f-a2ff-4272-bb00-44d40eeb1240",
   "metadata": {},
   "outputs": [],
   "source": [
    "import matplotlib.pyplot as plt\n",
    "from scipy.stats import ttest_1samp\n",
    "from mne.viz import plot_topomap, plot_montage\n",
    "bin_diff = [{'condition':['speed','accuracy']},\n",
    "           {'side':['left', 'right']}]\n",
    "\n",
    "fig, ax = plt.subplots(len(bin_diff), len(estimates_cumulative.event)+1, figsize=(len(estimates_cumulative.event)+1,len(bin_diff)), dpi=300)\n",
    "\n",
    "for d, diff in enumerate(bin_diff):\n",
    "    a = hmp.utils.condition_selection_epoch(epoch_data, list(diff.values())[0][0], variable=list(diff.keys())[0])\n",
    "    b = hmp.utils.condition_selection_epoch(epoch_data, list(diff.values())[0][1], variable=list(diff.keys())[0])\n",
    "    a = hmp.utils.event_channels(a, estimates_cumulative, mean=False).unstack().mean('epoch')\n",
    "    b = hmp.utils.event_channels(b, estimates_cumulative, mean=False).unstack().mean('epoch')\n",
    "\n",
    "    for event in a.event:\n",
    "        t_vals = np.zeros(a.sizes['channel'])\n",
    "        for c, channel in enumerate(a.channel):\n",
    "            t_val, _ = ttest_1samp(a.sel(event=event, channel=channel) - b.sel(event=event, channel=channel), popmean=0)\n",
    "            t_vals[c] = t_val\n",
    "        _ = plot_topomap(t_vals, info, axes=ax[d, event+1], show=False, sensors=False, cmap='Spectral_r', vlim=(-5, 5))\n",
    "    ax[d, 0].text(0,0, str(list(diff.values())[0][0])+ '-' + list(diff.values())[0][1], rotation=0, fontsize=4)\n",
    "    ax[d, 0].axis('off')\n",
    "plt.tight_layout()"
   ]
  }
 ],
 "metadata": {
  "kernelspec": {
   "display_name": "hmp",
   "language": "python",
   "name": "hmp"
  },
  "language_info": {
   "codemirror_mode": {
    "name": "ipython",
    "version": 3
   },
   "file_extension": ".py",
   "mimetype": "text/x-python",
   "name": "python",
   "nbconvert_exporter": "python",
   "pygments_lexer": "ipython3",
   "version": "3.12.3"
  }
 },
 "nbformat": 4,
 "nbformat_minor": 5
}
